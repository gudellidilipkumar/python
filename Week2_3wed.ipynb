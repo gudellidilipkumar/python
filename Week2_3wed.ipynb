{
  "nbformat": 4,
  "nbformat_minor": 0,
  "metadata": {
    "colab": {
      "provenance": [],
      "authorship_tag": "ABX9TyPZfDh4fZviLVg6BIC6UvfK",
      "include_colab_link": true
    },
    "kernelspec": {
      "name": "python3",
      "display_name": "Python 3"
    },
    "language_info": {
      "name": "python"
    }
  },
  "cells": [
    {
      "cell_type": "markdown",
      "metadata": {
        "id": "view-in-github",
        "colab_type": "text"
      },
      "source": [
        "<a href=\"https://colab.research.google.com/github/gudellidilipkumar/python/blob/main/Week2_3wed.ipynb\" target=\"_parent\"><img src=\"https://colab.research.google.com/assets/colab-badge.svg\" alt=\"Open In Colab\"/></a>"
      ]
    },
    {
      "cell_type": "markdown",
      "metadata": {
        "id": "4de9022d"
      },
      "source": [
        "# Task\n",
        "Analyze student test performance by creating matrices for original scores and bonus marks, calculating final scores with bonuses, applying a penalty for late submissions, and transposing the final scores matrix for analysis."
      ]
    },
    {
      "cell_type": "markdown",
      "metadata": {
        "id": "bbdfdde4"
      },
      "source": [
        "## Create original score matrix\n",
        "\n",
        "### Subtask:\n",
        "Define a 3x3 matrix representing the original scores of students in different subjects.\n"
      ]
    },
    {
      "cell_type": "markdown",
      "metadata": {
        "id": "09a7e08c"
      },
      "source": [
        "**Reasoning**:\n",
        "Define a 3x3 NumPy array representing the original scores with sample integer values.\n",
        "\n"
      ]
    },
    {
      "cell_type": "code",
      "metadata": {
        "colab": {
          "base_uri": "https://localhost:8080/"
        },
        "id": "87a45a3b",
        "outputId": "f3b8ec1b-97fc-4053-89c8-d0e881e88169"
      },
      "source": [
        "import numpy as np\n",
        "\n",
        "original_scores = np.array([[85, 78, 92],\n",
        "                            [65, 70, 88],\n",
        "                            [90, 85, 75]])\n",
        "print(original_scores)"
      ],
      "execution_count": 1,
      "outputs": [
        {
          "output_type": "stream",
          "name": "stdout",
          "text": [
            "[[85 78 92]\n",
            " [65 70 88]\n",
            " [90 85 75]]\n"
          ]
        }
      ]
    },
    {
      "cell_type": "markdown",
      "metadata": {
        "id": "80b46109"
      },
      "source": [
        "## Design bonus marks matrix\n",
        "\n",
        "### Subtask:\n",
        "Create a 3x3 matrix for bonus marks awarded to students in each subject.\n"
      ]
    },
    {
      "cell_type": "markdown",
      "metadata": {
        "id": "67cd9a98"
      },
      "source": [
        "**Reasoning**:\n",
        "Create a 3x3 NumPy array for bonus marks and print it.\n",
        "\n"
      ]
    },
    {
      "cell_type": "code",
      "metadata": {
        "colab": {
          "base_uri": "https://localhost:8080/"
        },
        "id": "3740d512",
        "outputId": "45a0f2ee-5aba-4fc7-b808-bedea4912adf"
      },
      "source": [
        "bonus_marks = np.array([[5, 3, 2],\n",
        "                        [2, 4, 1],\n",
        "                        [3, 1, 5]])\n",
        "print(bonus_marks)"
      ],
      "execution_count": 2,
      "outputs": [
        {
          "output_type": "stream",
          "name": "stdout",
          "text": [
            "[[5 3 2]\n",
            " [2 4 1]\n",
            " [3 1 5]]\n"
          ]
        }
      ]
    },
    {
      "cell_type": "markdown",
      "metadata": {
        "id": "1ec1cc54"
      },
      "source": [
        "## Calculate final scores with bonuses\n",
        "\n",
        "### Subtask:\n",
        "Add the bonus matrix to the original scores matrix to get the scores after adding bonuses.\n"
      ]
    },
    {
      "cell_type": "markdown",
      "metadata": {
        "id": "bbcad50e"
      },
      "source": [
        "**Reasoning**:\n",
        "Add the two matrices together and store the result in a new variable, then print the result.\n",
        "\n"
      ]
    },
    {
      "cell_type": "code",
      "metadata": {
        "colab": {
          "base_uri": "https://localhost:8080/"
        },
        "id": "ae6f642b",
        "outputId": "dde3e533-7965-4981-c3d0-98a9fe7561f5"
      },
      "source": [
        "scores_with_bonuses = original_scores + bonus_marks\n",
        "print(scores_with_bonuses)"
      ],
      "execution_count": 3,
      "outputs": [
        {
          "output_type": "stream",
          "name": "stdout",
          "text": [
            "[[90 81 94]\n",
            " [67 74 89]\n",
            " [93 86 80]]\n"
          ]
        }
      ]
    },
    {
      "cell_type": "markdown",
      "metadata": {
        "id": "c5cbf1a9"
      },
      "source": [
        "## Apply penalty for late submissions\n",
        "\n",
        "### Subtask:\n",
        "Multiply the final scores matrix by a penalty factor to adjust scores due to late submissions.\n"
      ]
    },
    {
      "cell_type": "markdown",
      "metadata": {
        "id": "0baed994"
      },
      "source": [
        "**Reasoning**:\n",
        "Define the penalty factor, multiply the scores with bonuses by this factor, store the result, and print it.\n",
        "\n"
      ]
    },
    {
      "cell_type": "code",
      "metadata": {
        "colab": {
          "base_uri": "https://localhost:8080/"
        },
        "id": "74001571",
        "outputId": "fd1abb56-b1e9-4f54-d3ee-12f80ba962b9"
      },
      "source": [
        "penalty_factor = 0.9\n",
        "penalized_scores = scores_with_bonuses * penalty_factor\n",
        "print(penalized_scores)"
      ],
      "execution_count": 4,
      "outputs": [
        {
          "output_type": "stream",
          "name": "stdout",
          "text": [
            "[[81.  72.9 84.6]\n",
            " [60.3 66.6 80.1]\n",
            " [83.7 77.4 72. ]]\n"
          ]
        }
      ]
    },
    {
      "cell_type": "markdown",
      "metadata": {
        "id": "eb0c147f"
      },
      "source": [
        "## Transpose the final scores matrix\n",
        "\n",
        "### Subtask:\n",
        "Transpose the final scores matrix to easily analyze performance by subject and student.\n"
      ]
    },
    {
      "cell_type": "markdown",
      "metadata": {
        "id": "c70268ed"
      },
      "source": [
        "**Reasoning**:\n",
        "Transpose the penalized scores matrix and print the result.\n",
        "\n"
      ]
    },
    {
      "cell_type": "code",
      "metadata": {
        "colab": {
          "base_uri": "https://localhost:8080/"
        },
        "id": "eede9bee",
        "outputId": "33f45d3e-6447-41f9-a117-3e1a8217e09c"
      },
      "source": [
        "transposed_scores = penalized_scores.T\n",
        "print(transposed_scores)"
      ],
      "execution_count": 5,
      "outputs": [
        {
          "output_type": "stream",
          "name": "stdout",
          "text": [
            "[[81.  60.3 83.7]\n",
            " [72.9 66.6 77.4]\n",
            " [84.6 80.1 72. ]]\n"
          ]
        }
      ]
    },
    {
      "cell_type": "markdown",
      "metadata": {
        "id": "b103de82"
      },
      "source": [
        "## Display results\n",
        "\n",
        "### Subtask:\n",
        "Print the original scores, bonus marks, scores with bonuses, penalized scores, and transposed penalized scores.\n"
      ]
    },
    {
      "cell_type": "markdown",
      "metadata": {
        "id": "334ac2cd"
      },
      "source": [
        "**Reasoning**:\n",
        "Print all the matrices with descriptive labels as requested.\n",
        "\n"
      ]
    },
    {
      "cell_type": "code",
      "metadata": {
        "colab": {
          "base_uri": "https://localhost:8080/"
        },
        "id": "99e12967",
        "outputId": "994839be-4968-49b3-f08a-0a10f4820ed8"
      },
      "source": [
        "print(\"Original Scores:\")\n",
        "print(original_scores)\n",
        "print(\"\\nBonus Marks:\")\n",
        "print(bonus_marks)\n",
        "print(\"\\nScores with Bonuses:\")\n",
        "print(scores_with_bonuses)\n",
        "print(\"\\nPenalized Scores:\")\n",
        "print(penalized_scores)\n",
        "print(\"\\nTransposed Penalized Scores:\")\n",
        "print(transposed_scores)"
      ],
      "execution_count": 6,
      "outputs": [
        {
          "output_type": "stream",
          "name": "stdout",
          "text": [
            "Original Scores:\n",
            "[[85 78 92]\n",
            " [65 70 88]\n",
            " [90 85 75]]\n",
            "\n",
            "Bonus Marks:\n",
            "[[5 3 2]\n",
            " [2 4 1]\n",
            " [3 1 5]]\n",
            "\n",
            "Scores with Bonuses:\n",
            "[[90 81 94]\n",
            " [67 74 89]\n",
            " [93 86 80]]\n",
            "\n",
            "Penalized Scores:\n",
            "[[81.  72.9 84.6]\n",
            " [60.3 66.6 80.1]\n",
            " [83.7 77.4 72. ]]\n",
            "\n",
            "Transposed Penalized Scores:\n",
            "[[81.  60.3 83.7]\n",
            " [72.9 66.6 77.4]\n",
            " [84.6 80.1 72. ]]\n"
          ]
        }
      ]
    },
    {
      "cell_type": "markdown",
      "metadata": {
        "id": "643b3694"
      },
      "source": [
        "## Summary:\n",
        "\n",
        "### Data Analysis Key Findings\n",
        "\n",
        "*   The original scores matrix was successfully created, representing initial student performance.\n",
        "*   A bonus marks matrix was added to the original scores, increasing student scores.\n",
        "*   A penalty factor of 0.9 was applied to the scores with bonuses, resulting in a decrease in scores due to late submissions.\n",
        "*   The final penalized scores matrix was transposed, allowing for analysis by subject and student.\n",
        "\n",
        "### Insights or Next Steps\n",
        "\n",
        "*   The transposed matrix facilitates comparison of student performance across subjects and identification of subject-specific trends.\n",
        "*   Further analysis could involve calculating average scores per student or subject from the transposed matrix.\n"
      ]
    },
    {
      "cell_type": "code",
      "source": [],
      "metadata": {
        "id": "2B_3TfSeAz3h"
      },
      "execution_count": null,
      "outputs": []
    },
    {
      "cell_type": "markdown",
      "metadata": {
        "id": "8891ba22"
      },
      "source": [
        "## Interpret the Results\n",
        "\n",
        "### Subtask:\n",
        "Interpret the results from the transposed matrix to identify the subject with the highest average score and the student who improved the most due to bonus marks."
      ]
    },
    {
      "cell_type": "markdown",
      "metadata": {
        "id": "cb4610a5"
      },
      "source": [
        "**Reasoning**:\n",
        "Calculate the average score for each subject from the transposed penalized scores matrix to identify the subject with the highest average. Also, compare the original scores to the scores with bonuses for each student to determine who improved the most."
      ]
    },
    {
      "cell_type": "code",
      "metadata": {
        "colab": {
          "base_uri": "https://localhost:8080/"
        },
        "id": "bd22bd41",
        "outputId": "4ce9e323-bc18-4949-e197-917236357a40"
      },
      "source": [
        "# Calculate average score per subject from the transposed penalized scores matrix\n",
        "average_scores_per_subject = np.mean(transposed_scores, axis=1)\n",
        "\n",
        "# Identify the subject with the highest average score\n",
        "subjects = [\"Mathematics\", \"Science\", \"English\"]\n",
        "highest_average_subject_index = np.argmax(average_scores_per_subject)\n",
        "highest_average_subject = subjects[highest_average_subject_index]\n",
        "highest_average_score = average_scores_per_subject[highest_average_subject_index]\n",
        "\n",
        "print(f\"Average scores per subject: {average_scores_per_subject}\")\n",
        "print(f\"Subject with the highest average score: {highest_average_subject} ({highest_average_score:.2f})\")\n",
        "\n",
        "# Calculate improvement for each student due to bonus marks\n",
        "improvement_due_to_bonuses = scores_with_bonuses - original_scores\n",
        "\n",
        "# Sum the improvement across all subjects for each student\n",
        "total_improvement_per_student = np.sum(improvement_due_to_bonuses, axis=1)\n",
        "\n",
        "# Identify the student who improved the most\n",
        "students = [\"Student 1\", \"Student 2\", \"Student 3\"]\n",
        "most_improved_student_index = np.argmax(total_improvement_per_student)\n",
        "most_improved_student = students[most_improved_student_index]\n",
        "highest_improvement = total_improvement_per_student[most_improved_student_index]\n",
        "\n",
        "print(f\"\\nTotal improvement per student due to bonus marks: {total_improvement_per_student}\")\n",
        "print(f\"Student who improved the most due to bonus marks: {most_improved_student} (Total improvement: {highest_improvement})\")"
      ],
      "execution_count": 7,
      "outputs": [
        {
          "output_type": "stream",
          "name": "stdout",
          "text": [
            "Average scores per subject: [75.  72.3 78.9]\n",
            "Subject with the highest average score: English (78.90)\n",
            "\n",
            "Total improvement per student due to bonus marks: [10  7  9]\n",
            "Student who improved the most due to bonus marks: Student 1 (Total improvement: 10)\n"
          ]
        }
      ]
    }
  ]
}